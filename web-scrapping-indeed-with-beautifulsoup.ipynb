{
  "nbformat": 4,
  "nbformat_minor": 0,
  "metadata": {
    "colab": {
      "name": "Web scrapping Indeed with BeautifulSoup",
      "provenance": [],
      "collapsed_sections": [],
      "include_colab_link": true
    },
    "kernelspec": {
      "name": "python3",
      "display_name": "Python 3"
    }
  },
  "cells": [
    {
      "cell_type": "markdown",
      "metadata": {
        "id": "view-in-github",
        "colab_type": "text"
      },
      "source": [
        "<a href=\"https://colab.research.google.com/gist/khuyentran1401/095f264daf57f5676322e22815fa5bb6/web-scrapping-indeed-with-beautifulsoup.ipynb\" target=\"_parent\"><img src=\"https://colab.research.google.com/assets/colab-badge.svg\" alt=\"Open In Colab\"/></a>"
      ]
    },
    {
      "cell_type": "markdown",
      "metadata": {
        "id": "zfNg3jcuOXx7",
        "colab_type": "text"
      },
      "source": [
        "In this project, I am interested in extracting the data relevant to my internship search such as title, location, company, and the link to apply. \n",
        "\n",
        "I used Beautiful Soup, a libary of Python to scrap web easily without strong knowledge in HTML"
      ]
    },
    {
      "cell_type": "code",
      "metadata": {
        "id": "UoJyzg_C5IKR",
        "colab_type": "code",
        "colab": {}
      },
      "source": [
        "import requests\n",
        "from bs4 import BeautifulSoup"
      ],
      "execution_count": 0,
      "outputs": []
    },
    {
      "cell_type": "code",
      "metadata": {
        "id": "gaEJ06R16Q9N",
        "colab_type": "code",
        "colab": {}
      },
      "source": [
        "URL = 'https://www.indeed.com/jobs?q=data+science+intern&l=San+Jose%2C+CA#'\n",
        "page = requests.get(URL)\n",
        "\n",
        "soup = BeautifulSoup(page.content, 'html.parser')\n"
      ],
      "execution_count": 0,
      "outputs": []
    },
    {
      "cell_type": "code",
      "metadata": {
        "id": "YaScnqMW7yyr",
        "colab_type": "code",
        "colab": {}
      },
      "source": [
        "results = soup.find(id='resultsCol')\n"
      ],
      "execution_count": 0,
      "outputs": []
    },
    {
      "cell_type": "markdown",
      "metadata": {
        "id": "JRoR7C6TPVSy",
        "colab_type": "text"
      },
      "source": [
        "Find the job listings"
      ]
    },
    {
      "cell_type": "code",
      "metadata": {
        "id": "cZg8v01PCkC-",
        "colab_type": "code",
        "colab": {}
      },
      "source": [
        "job_elems = results.find_all('div',class_=\"jobsearch-SerpJobCard unifiedRow row result\")\n"
      ],
      "execution_count": 0,
      "outputs": []
    },
    {
      "cell_type": "markdown",
      "metadata": {
        "id": "VNAB-QUdPaZy",
        "colab_type": "text"
      },
      "source": [
        "Extract the non-relevant data to make the results easier to see"
      ]
    },
    {
      "cell_type": "code",
      "metadata": {
        "id": "7gi3yuApHg4U",
        "colab_type": "code",
        "outputId": "64da5189-66a3-4060-ed13-65c18f713d03",
        "colab": {
          "base_uri": "https://localhost:8080/",
          "height": 1000
        }
      },
      "source": [
        "for job_elem in job_elems:\n",
        "\n",
        "  title = job_elem.find('div', class_ = 'title')\n",
        "  company = job_elem.find('span', class_='company')\n",
        "  location = job_elem.find('span', class_ = \"location accessible-contrast-color-location\" )\n",
        "  link = job_elem.find('a')['href']\n",
        "  summary = job_elem.find('div', class_ = 'summary')\n",
        "  print(title.text.strip())\n",
        "  print(company.text.strip())\n",
        "  print(location.text.strip())\n",
        "  print()\n",
        "  print(\"Apply here:\", link)\n",
        "  print()"
      ],
      "execution_count": 7,
      "outputs": [
        {
          "output_type": "stream",
          "text": [
            "Data Science Intern\n",
            "Bosch Group\n",
            "Sunnyvale, CA 94085\n",
            "\n",
            "Apply here: /rc/clk?jk=fc072cf68d7574af&fccid=a2faf1301ac6ad4b&vjs=3\n",
            "\n",
            "Data Science Internship\n",
            "Vectra\n",
            "San Jose, CA\n",
            "\n",
            "Apply here: /rc/clk?jk=4677e712f6cc6301&fccid=22efec3ff19e9e26&vjs=3\n",
            "\n",
            "Summer 2020 Data Science Intern (Outward, Inc.)\n",
            "Williams-Sonoma, Inc.\n",
            "San Jose, CA 95112 (Downtown area)\n",
            "\n",
            "Apply here: /rc/clk?jk=4c24fba59d266809&fccid=cdd85c4d445cce0f&vjs=3\n",
            "\n",
            "Data Science Intern\n",
            "Wealthfront\n",
            "Palo Alto, CA 94301 (Professorville area)\n",
            "\n",
            "Apply here: /rc/clk?jk=3733a03f5b6a48ea&fccid=90344e51e9e06acc&vjs=3\n",
            "\n",
            "Data Science Intern\n",
            "Oath Inc\n",
            "Sunnyvale, CA 94089\n",
            "\n",
            "Apply here: /rc/clk?jk=98fd7c6709a44fec&fccid=ec7026b814653f27&vjs=3\n",
            "\n",
            "ML/Data Science Intern (Summer 2020)\n",
            "Splunk\n",
            "San Jose, CA\n",
            "\n",
            "Apply here: /rc/clk?jk=936cd6393d5ca19d&fccid=aef928e89977f7f0&vjs=3\n",
            "\n",
            "Data Scientist (Intern) - United States\n",
            "Cisco Careers\n",
            "San Jose, CA\n",
            "\n",
            "Apply here: /rc/clk?jk=93852554b89e8d9c&fccid=dfc44f3b8c44a6db&vjs=3\n",
            "\n",
            "Data Science Intern - Undergrad\n",
            "Proofpoint\n",
            "Sunnyvale, CA 94089\n",
            "\n",
            "Apply here: /rc/clk?jk=6eff8a91ca629c67&fccid=69c7d55b78dc7424&vjs=3\n",
            "\n",
            "Data Science Intern\n",
            "PayPal\n",
            "San Jose, CA 95131 (North Valley area)\n",
            "\n",
            "Apply here: /rc/clk?jk=f10b24d905e2d69d&fccid=978d9fd9799d55a8&vjs=3\n",
            "\n",
            "Data Science Internship (Summer 2020)\n",
            "Poshmark\n",
            "Redwood City, CA\n",
            "\n",
            "Apply here: /rc/clk?jk=6e81a1bfd22f52dc&fccid=0f4f2d112db7d324&vjs=3\n",
            "\n"
          ],
          "name": "stdout"
        }
      ]
    }
  ]
}